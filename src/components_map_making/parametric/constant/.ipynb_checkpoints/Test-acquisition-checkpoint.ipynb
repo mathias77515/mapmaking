{
 "cells": [
  {
   "cell_type": "code",
   "execution_count": 7,
   "id": "7f6d4608",
   "metadata": {},
   "outputs": [],
   "source": [
    "# QUBIC packages\n",
    "import qubic\n",
    "import sys\n",
    "import os\n",
    "path = os.path.dirname(os.path.dirname(os.path.dirname(os.getcwd()))) + '/data/'\n",
    "sys.path.append(os.path.dirname(os.path.dirname(os.path.dirname(os.getcwd()))))\n",
    "\n",
    "import component_acquisition as Acq\n",
    "import pickle\n",
    "import gc\n",
    "from importlib import reload\n",
    "# Display packages\n",
    "import healpy as hp\n",
    "import matplotlib.pyplot as plt\n",
    "\n",
    "# FG-Buster packages\n",
    "import component_model as c\n",
    "\n",
    "# General packages\n",
    "import numpy as np\n",
    "import warnings\n",
    "\n",
    "from scipy.optimize import minimize\n",
    "from functools import partial\n",
    "import time\n",
    "import configparser\n",
    "from noise_timeline import QubicNoise, QubicWideBandNoise, QubicDualBandNoise\n",
    "from planck_timeline import ExternalData2Timeline\n",
    "\n",
    "from pyoperators import MPI\n",
    "\n",
    "# PyOperators packages\n",
    "from pyoperators import *\n",
    "from pysimulators.interfaces.healpy import HealpixConvolutionGaussianOperator\n",
    "from cg import pcg\n",
    "\n",
    "### Reading and loading configuration file\n",
    "def load_config(config_file):\n",
    "    # Créer un objet ConfigParser\n",
    "    config = configparser.ConfigParser()\n",
    "\n",
    "    # Lire le fichier de configuration\n",
    "    config.read(config_file)\n",
    "\n",
    "    # Itérer sur chaque section et option\n",
    "    external = []\n",
    "    allnus = [30, 44, 70, 100, 143, 217, 353]\n",
    "    k = 0\n",
    "    for section in config.sections():\n",
    "        for option in config.options(section):\n",
    "            \n",
    "            # Récupérer la valeur de chaque option de configuration\n",
    "            value = config.get(section, option)\n",
    "                \n",
    "            if section == 'EXTERNAL DATA':\n",
    "                if value.lower() == 'true':\n",
    "                    external.append(allnus[k])\n",
    "                \n",
    "                k+=1\n",
    "\n",
    "            # Convertir la valeur en liste si elle est de la forme \"1, 2, 3\"\n",
    "            if ',' in value:\n",
    "                value = [x.strip() for x in value.split(',')]\n",
    "\n",
    "            # Convertir la valeur en int, float ou bool si c'est possible\n",
    "            elif value.isdigit():\n",
    "                value = int(value)\n",
    "            elif '.' in value and all(part.isdigit() for part in value.split('.')):\n",
    "                value = float(value)\n",
    "            elif value.lower() in ['true', 'false']:\n",
    "                value = value.lower() == 'true'\n",
    "\n",
    "            # Définir chaque option de configuration en tant que variable globale\n",
    "            globals()[option] = value\n",
    "            \n",
    "    return external\n",
    "def get_ultrawideband_config():\n",
    "    \n",
    "    nu_up = 247.5\n",
    "    nu_down = 131.25\n",
    "    nu_ave = np.mean(np.array([nu_up, nu_down]))\n",
    "    delta = nu_up - nu_ave\n",
    "    \n",
    "    return nu_ave, 2*delta/nu_ave\n",
    "def get_dict(args={}):\n",
    "    \n",
    "    '''\n",
    "    Function for modify the qubic dictionary.\n",
    "    '''\n",
    "    ### Get the default dictionary\n",
    "    dictfilename = 'dicts/pipeline_demo.dict'\n",
    "    d = qubic.qubicdict.qubicDict()\n",
    "    d.read_from_file(dictfilename)\n",
    "    for i in args.keys():\n",
    "        \n",
    "        d[str(i)] = args[i]\n",
    "    \n",
    "    return d\n",
    "def give_me_intercal(D, d):\n",
    "    return 1/np.sum(D[:]**2, axis=1) * np.sum(D[:] * d[:], axis=1)\n"
   ]
  },
  {
   "cell_type": "code",
   "execution_count": 30,
   "id": "47983222",
   "metadata": {},
   "outputs": [],
   "source": [
    "nu_ave, delta_nu_over_nu = get_ultrawideband_config()\n",
    "### Dictionary for reconstruction\n",
    "d = get_dict({'npointings':100, 'nf_recon':1, 'nf_sub':3, 'nside':256, 'MultiBand':True, 'period':1,\n",
    "              'filter_nu':nu_ave*1e9, 'noiseless':False, 'comm':None, 'nprocs_sampling':1, 'nprocs_instrument':1,\n",
    "              'photon_noise':True, 'nhwp_angles':3, 'effective_duration':3, 'filter_relative_bandwidth':delta_nu_over_nu, \n",
    "              'type_instrument':'wide', 'TemperatureAtmosphere150':None, 'TemperatureAtmosphere220':None, 'RA_center':100, 'DEC_center':-157,\n",
    "              'EmissivityAtmosphere150':None, 'EmissivityAtmosphere220':None, 'synthbeam_kmax':1})\n"
   ]
  },
  {
   "cell_type": "code",
   "execution_count": 206,
   "id": "e017cbf6",
   "metadata": {},
   "outputs": [
    {
     "name": "stdout",
     "output_type": "stream",
     "text": [
      "path /Users/mregnier/Desktop/mapmaking/src/data/\n"
     ]
    },
    {
     "data": {
      "text/plain": [
       "array([ 63.   ,  77.   ,  83.5  , 116.5  , 119.405, 166.595, 181.195,\n",
       "       252.805])"
      ]
     },
     "execution_count": 206,
     "metadata": {},
     "output_type": "execute_result"
    }
   ],
   "source": [
    "reload(Acq)\n",
    "external = [70, 100, 143, 217]\n",
    "nside=256\n",
    "comp = [c.CMB(), c.Dust(nu0=150, temp=20)]#, c.COLine(nu=230.538, active=False)]\n",
    "nintegr = 2\n",
    "others = Acq.OtherDataParametric(external, nside, comp=comp, nintegr=nintegr)\n",
    "others.allnus"
   ]
  },
  {
   "cell_type": "code",
   "execution_count": 207,
   "id": "061e6b2c",
   "metadata": {},
   "outputs": [],
   "source": [
    "#h = others.get_operator(np.array([1.54]), convolution=False, nu_co=None)\n",
    "#h"
   ]
  },
  {
   "cell_type": "code",
   "execution_count": 208,
   "id": "df8e5502",
   "metadata": {},
   "outputs": [],
   "source": [
    "#others.update_A(h, np.array([100]))"
   ]
  },
  {
   "cell_type": "code",
   "execution_count": 209,
   "id": "c78dbbfe",
   "metadata": {
    "scrolled": true
   },
   "outputs": [
    {
     "name": "stdout",
     "output_type": "stream",
     "text": [
      "You asked 100 pointings with repeat strategy so I will provide 33 pointings repeated 3 times.\n"
     ]
    }
   ],
   "source": [
    "myqubic = Acq.QubicFullBandComponentsMapMakingParametric(d, comp, 2, kind='Wide')\n",
    "#H = myqubic.get_operator(np.array([1.54]), convolution=False, co=230.538e9)"
   ]
  },
  {
   "cell_type": "code",
   "execution_count": 210,
   "id": "4ccd7b19",
   "metadata": {},
   "outputs": [],
   "source": [
    "#myqubic.update_A(H, np.array([100]))"
   ]
  },
  {
   "cell_type": "code",
   "execution_count": 211,
   "id": "6ce8b162",
   "metadata": {},
   "outputs": [],
   "source": [
    "allexp = Acq.QubicOtherIntegratedComponentsMapMakingParametric(myqubic, external, comp, nintegr=nintegr)"
   ]
  },
  {
   "cell_type": "code",
   "execution_count": 212,
   "id": "44195f64",
   "metadata": {},
   "outputs": [
    {
     "name": "stdout",
     "output_type": "stream",
     "text": [
      "Info openroam-prg-gm-1-130-84.net.univ-paris-diderot.fr: Allocating (98208,9) elements = 13.48681640625 MiB in FSRRotation3dMatrix.__init__.\n",
      "Info openroam-prg-gm-1-130-84.net.univ-paris-diderot.fr: Allocating (98208,9) elements = 13.48681640625 MiB in FSRRotation3dMatrix.__init__.\n",
      "Info openroam-prg-gm-1-130-84.net.univ-paris-diderot.fr: Allocating (98208,9) elements = 13.48681640625 MiB in FSRRotation3dMatrix.__init__.\n",
      "Info openroam-prg-gm-1-130-84.net.univ-paris-diderot.fr: Allocating (98208,9) elements = 13.48681640625 MiB in FSRRotation3dMatrix.__init__.\n"
     ]
    }
   ],
   "source": [
    "H = allexp.get_operator(np.array([1.54]), convolution=False, co=None)"
   ]
  },
  {
   "cell_type": "code",
   "execution_count": 213,
   "id": "e22fd752",
   "metadata": {
    "scrolled": true
   },
   "outputs": [
    {
     "data": {
      "text/plain": [
       "BlockColumnOperator([\n",
       "    CompositionOperator([\n",
       "        ReshapeOperator((992,99), 98208, None),\n",
       "        AdditionOperator([\n",
       "            CompositionOperator([\n",
       "                ConvolutionTruncatedExponentialOperator(0.01, None, shapein=(992,99), shapeout=(992,99)),\n",
       "                DiagonalOperator(array([0.000324485730878629, ..., 0.000324485730878629], dtype=float64), broadcast='rightward', None),\n",
       "                ReshapeOperator((992,99,1), (992,99), None),\n",
       "                DenseBlockDiagonalOperator(array([[[[7.097125558432762e-21, ..., -6.146291027450591e-21]]]], dtype=float64), naxesin=1, naxesout=1, None, shapein=(992,99,3), shapeout=(992,99,1)),\n",
       "                ProjectionOperator(None, None, shapein=(786432,3), shapeout=(992,99,3)),\n",
       "                ReshapeOperator((1,786432,3), (786432,3), None),\n",
       "                DenseOperator(array([[1.0, 1.4363032805853433e-06]], dtype=float64), naxesin=1, naxesout=1, broadcast='rightward', None, shapein=(2,786432,3), shapeout=(1,786432,3))]),\n",
       "            CompositionOperator([\n",
       "                ConvolutionTruncatedExponentialOperator(0.01, None, shapein=(992,99), shapeout=(992,99)),\n",
       "                DiagonalOperator(array([0.0002539595425858693, ..., 0.0002539595425858693], dtype=float64), broadcast='rightward', None),\n",
       "                ReshapeOperator((992,99,1), (992,99), None),\n",
       "                DenseBlockDiagonalOperator(array([[[[9.033746731578198e-21, ..., -7.823454160901359e-21]]]], dtype=float64), naxesin=1, naxesout=1, None, shapein=(992,99,3), shapeout=(992,99,1)),\n",
       "                ProjectionOperator(None, None, shapein=(786432,3), shapeout=(992,99,3)),\n",
       "                ReshapeOperator((1,786432,3), (786432,3), None),\n",
       "                DenseOperator(array([[1.0, 146045.02896755422]], dtype=float64), naxesin=1, naxesout=1, broadcast='rightward', None, shapein=(2,786432,3), shapeout=(1,786432,3))]),\n",
       "            CompositionOperator([\n",
       "                ConvolutionTruncatedExponentialOperator(0.01, None, shapein=(992,99), shapeout=(992,99)),\n",
       "                DiagonalOperator(array([0.00032730204557166826, ..., 0.00032730204557166826], dtype=float64), broadcast='rightward', None),\n",
       "                ReshapeOperator((992,99,1), (992,99), None),\n",
       "                DenseBlockDiagonalOperator(array([[[[6.035604130548594e-21, ..., -5.22698650424137e-21]]]], dtype=float64), naxesin=1, naxesout=1, None, shapein=(992,99,3), shapeout=(992,99,1)),\n",
       "                ProjectionOperator(None, None, shapein=(786432,3), shapeout=(992,99,3)),\n",
       "                ReshapeOperator((1,786432,3), (786432,3), None),\n",
       "                DenseOperator(array([[1.0, 89752941781.04623]], dtype=float64), naxesin=1, naxesout=1, broadcast='rightward', None, shapein=(2,786432,3), shapeout=(1,786432,3))]),\n",
       "            CompositionOperator([\n",
       "                ConvolutionTruncatedExponentialOperator(0.01, None, shapein=(992,99), shapeout=(992,99)),\n",
       "                DiagonalOperator(array([0.00027360744432129995, ..., 0.00027360744432129995], dtype=float64), broadcast='rightward', None),\n",
       "                ReshapeOperator((992,99,1), (992,99), None),\n",
       "                DenseBlockDiagonalOperator(array([[[[2.8281084082515527e-20, ..., -2.4492137262022162e-20]]]], dtype=float64), naxesin=1, naxesout=1, None, shapein=(992,99,3), shapeout=(992,99,1)),\n",
       "                ProjectionOperator(None, None, shapein=(786432,3), shapeout=(992,99,3)),\n",
       "                ReshapeOperator((1,786432,3), (786432,3), None),\n",
       "                DenseOperator(array([[1.0, 1.1408918551219138e+22]], dtype=float64), naxesin=1, naxesout=1, broadcast='rightward', None, shapein=(2,786432,3), shapeout=(1,786432,3))])])]),\n",
       "    BlockColumnOperator([\n",
       "        CompositionOperator([\n",
       "            HomothetyOperator(0.5, None),\n",
       "            ReshapeOperator((786432,3), 2359296, None),\n",
       "            AdditionOperator([\n",
       "                CompositionOperator([\n",
       "                    ReshapeOperator((1,786432,3), (786432,3), None),\n",
       "                    DenseOperator(array([[1.0, 1.5032609277186484e-38]], dtype=float64), naxesin=1, naxesout=1, broadcast='rightward', None, shapein=(2,786432,3), shapeout=(1,786432,3))]),\n",
       "                CompositionOperator([\n",
       "                    ReshapeOperator((1,786432,3), (786432,3), None),\n",
       "                    DenseOperator(array([[1.0, 8.053872352649412e-30]], dtype=float64), naxesin=1, naxesout=1, broadcast='rightward', None, shapein=(2,786432,3), shapeout=(1,786432,3))])])]),\n",
       "        CompositionOperator([\n",
       "            HomothetyOperator(0.5, None),\n",
       "            ReshapeOperator((786432,3), 2359296, None),\n",
       "            AdditionOperator([\n",
       "                CompositionOperator([\n",
       "                    ReshapeOperator((1,786432,3), (786432,3), None),\n",
       "                    DenseOperator(array([[1.0, 2.712805301809768e-26]], dtype=float64), naxesin=1, naxesout=1, broadcast='rightward', None, shapein=(2,786432,3), shapeout=(1,786432,3))]),\n",
       "                CompositionOperator([\n",
       "                    ReshapeOperator((1,786432,3), (786432,3), None),\n",
       "                    DenseOperator(array([[1.0, 8.910391462519055e-12]], dtype=float64), naxesin=1, naxesout=1, broadcast='rightward', None, shapein=(2,786432,3), shapeout=(1,786432,3))])])]),\n",
       "        CompositionOperator([\n",
       "            HomothetyOperator(0.5, None),\n",
       "            ReshapeOperator((786432,3), 2359296, None),\n",
       "            AdditionOperator([\n",
       "                CompositionOperator([\n",
       "                    ReshapeOperator((1,786432,3), (786432,3), None),\n",
       "                    DenseOperator(array([[1.0, 1.0596417146853534e-10]], dtype=float64), naxesin=1, naxesout=1, broadcast='rightward', None, shapein=(2,786432,3), shapeout=(1,786432,3))]),\n",
       "                CompositionOperator([\n",
       "                    ReshapeOperator((1,786432,3), (786432,3), None),\n",
       "                    DenseOperator(array([[1.0, 39844.71902895547]], dtype=float64), naxesin=1, naxesout=1, broadcast='rightward', None, shapein=(2,786432,3), shapeout=(1,786432,3))])])]),\n",
       "        CompositionOperator([\n",
       "            HomothetyOperator(0.5, None),\n",
       "            ReshapeOperator((786432,3), 2359296, None),\n",
       "            AdditionOperator([\n",
       "                CompositionOperator([\n",
       "                    ReshapeOperator((1,786432,3), (786432,3), None),\n",
       "                    DenseOperator(array([[1.0, 195136872.935017]], dtype=float64), naxesin=1, naxesout=1, broadcast='rightward', None, shapein=(2,786432,3), shapeout=(1,786432,3))]),\n",
       "                CompositionOperator([\n",
       "                    ReshapeOperator((1,786432,3), (786432,3), None),\n",
       "                    DenseOperator(array([[1.0, 9.963298384300482e+22]], dtype=float64), naxesin=1, naxesout=1, broadcast='rightward', None, shapein=(2,786432,3), shapeout=(1,786432,3))])])])])])"
      ]
     },
     "execution_count": 213,
     "metadata": {},
     "output_type": "execute_result"
    }
   ],
   "source": [
    "allexp.update_A(H, newbeta=np.array([100]))"
   ]
  },
  {
   "cell_type": "code",
   "execution_count": null,
   "id": "64b98ab8",
   "metadata": {},
   "outputs": [],
   "source": []
  },
  {
   "cell_type": "code",
   "execution_count": null,
   "id": "a3c991f6",
   "metadata": {},
   "outputs": [],
   "source": []
  },
  {
   "cell_type": "code",
   "execution_count": null,
   "id": "7e4c7c1d",
   "metadata": {},
   "outputs": [],
   "source": []
  }
 ],
 "metadata": {
  "kernelspec": {
   "display_name": "Python 3 (ipykernel)",
   "language": "python",
   "name": "python3"
  },
  "language_info": {
   "codemirror_mode": {
    "name": "ipython",
    "version": 3
   },
   "file_extension": ".py",
   "mimetype": "text/x-python",
   "name": "python",
   "nbconvert_exporter": "python",
   "pygments_lexer": "ipython3",
   "version": "3.9.16"
  }
 },
 "nbformat": 4,
 "nbformat_minor": 5
}
